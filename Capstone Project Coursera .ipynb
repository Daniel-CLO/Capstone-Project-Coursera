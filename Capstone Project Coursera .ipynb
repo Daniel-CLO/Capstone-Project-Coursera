{
 "cells": [
  {
   "cell_type": "markdown",
   "metadata": {},
   "source": [
    "The Capstone Project will be used to location data providers (places, venues and geographical location also coordinates such as longitude and latitude) determining the types of venues exist within a chosen radius."
   ]
  },
  {
   "cell_type": "markdown",
   "metadata": {},
   "source": [
    "Among location providers the 1st Foursquare strong rate features API updated, then 2nd Google Places and 3rd Yelp \n",
    "bellongs to bellow rate API features. Their Features include (Rate Limits, Cost, Coverage, Accuracy and Update Frequency)"
   ]
  },
  {
   "cell_type": "markdown",
   "metadata": {},
   "source": [
    "Further the project comprise, Signing up for a Foursquare Developer Account"
   ]
  },
  {
   "cell_type": "markdown",
   "metadata": {},
   "source": [
    "import pandas as pd \n",
    "import numpy as np"
   ]
  },
  {
   "cell_type": "markdown",
   "metadata": {},
   "source": [
    "print ('Hello Capstone \\n Project Course!')"
   ]
  }
 ],
 "metadata": {
  "kernelspec": {
   "display_name": "R",
   "language": "R",
   "name": "conda-env-r-r"
  },
  "language_info": {
   "codemirror_mode": "r",
   "file_extension": ".r",
   "mimetype": "text/x-r-source",
   "name": "R",
   "pygments_lexer": "r",
   "version": "3.5.1"
  }
 },
 "nbformat": 4,
 "nbformat_minor": 4
}
